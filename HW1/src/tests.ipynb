{
 "cells": [
  {
   "cell_type": "code",
   "execution_count": 4,
   "metadata": {
    "collapsed": false
   },
   "outputs": [
    {
     "name": "stderr",
     "output_type": "stream",
     "text": [
      "/home/bhavika/anaconda2/lib/python2.7/site-packages/numpy/core/numeric.py:301: FutureWarning: in the future, full((10, 10), -1) will return an array of dtype('int64')\n",
      "  format(shape, fill_value, array(fill_value).dtype), FutureWarning)\n"
     ]
    }
   ],
   "source": [
    "import numpy as np\n",
    "\n",
    "x = np.full((10,10), -1)\n",
    "x[3, 4] = 9\n"
   ]
  },
  {
   "cell_type": "code",
   "execution_count": 6,
   "metadata": {
    "collapsed": false
   },
   "outputs": [
    {
     "name": "stdout",
     "output_type": "stream",
     "text": [
      "[[-1. -1. -1. -1. -1. -1. -1. -1. -1. -1.]\n",
      " [-1. -1. -1. -1. -1. -1. -1. -1. -1. -1.]\n",
      " [-1. -1. -1. -1. -1. -1. -1. -1. -1. -1.]\n",
      " [-1. -1. -1. -1.  9. -1. -1. -1. -1. -1.]\n",
      " [-1. -1. -1. -1. -1. -1. -1. -1. -1. -1.]\n",
      " [-1. -1. -1. -1. -1. -1. -1. -1. -1. -1.]\n",
      " [-1. -1. -1. -1. -1. -1. -1. -1. -1. -1.]\n",
      " [-1. -1. -1. -1. -1. -1. -1. -1. -1. -1.]\n",
      " [-1. -1. -1. -1. -1. -1. -1. -1. -1. -1.]\n",
      " [-1. -1. -1. -1. -1. -1. -1. -1. -1. -1.]]\n",
      "9.0\n"
     ]
    }
   ],
   "source": [
    "print x\n",
    "\n",
    "print x[3,4]"
   ]
  },
  {
   "cell_type": "code",
   "execution_count": 10,
   "metadata": {
    "collapsed": false
   },
   "outputs": [
    {
     "name": "stdout",
     "output_type": "stream",
     "text": [
      "[ 1.  3.  2.]\n",
      "<type 'numpy.ndarray'>\n"
     ]
    }
   ],
   "source": [
    "import pandas as pd\n",
    "\n",
    "train1 = np.genfromtxt(fname='../data/dataset1/train.txt')\n",
    "train1_df = pd.DataFrame(train1)\n",
    "train1_df = train1_df.rename(columns={0: 'Label'})\n",
    "\n",
    "choices = train1_df['Label'].unique()\n",
    "\n",
    "print choices\n",
    "print type(choices)"
   ]
  },
  {
   "cell_type": "code",
   "execution_count": 15,
   "metadata": {
    "collapsed": true
   },
   "outputs": [],
   "source": [
    "train1 = np.genfromtxt(fname='../data/dataset1/train.txt')\n",
    "train2 = np.genfromtxt(fname= '../data/dataset2/train.txt')\n",
    "train3 = np.genfromtxt(fname='../data/dataset3/train.txt')\n",
    "train4 = np.genfromtxt(fname='../data/dataset4/train.txt')\n",
    "train5 = np.genfromtxt(fname='../data/dataset5/train.txt')\n",
    "\n",
    "test1 = np.genfromtxt(fname='../data/dataset1/test.txt')\n",
    "test2 = np.genfromtxt(fname='../data/dataset2/test.txt')\n",
    "test3 = np.genfromtxt(fname='../data/dataset3/test.txt')\n",
    "test4 = np.genfromtxt(fname='../data/dataset4/test.txt')\n",
    "test5 = np.genfromtxt(fname='../data/dataset5/test.txt')\n",
    "\n",
    "train1_df = pd.DataFrame(train1)\n",
    "train2_df = pd.DataFrame(train2)\n",
    "train3_df = pd.DataFrame(train3)\n",
    "train4_df = pd.DataFrame(train4)\n",
    "train5_df = pd.DataFrame(train5)\n",
    "\n",
    "train1_df = train1_df.rename(columns={0: 'Label'})\n",
    "train2_df = train2_df.rename(columns={0: 'Label'})\n",
    "train3_df = train3_df.rename(columns={0: 'Label'})\n",
    "train4_df = train4_df.rename(columns={0: 'Label'})\n",
    "train5_df = train5_df.rename(columns={0: 'Label'})\n",
    "\n",
    "test1_df = pd.DataFrame(test1)\n",
    "test2_df = pd.DataFrame(test2)\n",
    "test3_df = pd.DataFrame(test3)\n",
    "test4_df = pd.DataFrame(test4)\n",
    "test5_df = pd.DataFrame(test5)\n",
    "\n",
    "test1_df = test1_df.rename(columns={0: 'Label'})\n",
    "test2_df = test2_df.rename(columns={0: 'Label'})\n",
    "test3_df = test3_df.rename(columns={0: 'Label'})\n",
    "test4_df = test4_df.rename(columns={0: 'Label'})\n",
    "test5_df = test5_df.rename(columns={0: 'Label'})\n",
    "\n",
    "\n",
    "\n"
   ]
  },
  {
   "cell_type": "code",
   "execution_count": 16,
   "metadata": {
    "collapsed": false
   },
   "outputs": [
    {
     "name": "stdout",
     "output_type": "stream",
     "text": [
      "30 129\n",
      "Time series length for dataset 0 129\n",
      "175 464\n",
      "Time series length for dataset 1 464\n",
      "200 428\n",
      "Time series length for dataset 2 428\n",
      "500 129\n",
      "Time series length for dataset 3 129\n",
      "1000 153\n",
      "Time series length for dataset 4 153\n"
     ]
    }
   ],
   "source": [
    "train = [train1, train2, train3, train4, train5]\n",
    "test = [test1, test2, test3, test4, test5]\n",
    "\n",
    "for i in range(len(train)):\n",
    "    m, n = train[i].shape\n",
    "    print m,n \n",
    "    print \"Time series length for dataset\",i, n"
   ]
  },
  {
   "cell_type": "code",
   "execution_count": 23,
   "metadata": {
    "collapsed": false
   },
   "outputs": [
    {
     "name": "stdout",
     "output_type": "stream",
     "text": [
      "     0    1    2  Choice1  Choice2\n",
      "0  0.0  1.0  1.0      2.0        1\n",
      "1  2.0  1.0  0.0      1.0        1\n"
     ]
    }
   ],
   "source": [
    "bhavika = np.zeros((2,3))\n",
    "\n",
    "bhavika[0, 2] = 1\n",
    "bhavika[0, 1] = 1\n",
    "bhavika[1, 0] = 2\n",
    "bhavika[1, 1] = 1\n",
    "\n",
    "bt = pd.DataFrame(bhavika)\n",
    "\n",
    "choices = [1, 2]\n",
    "\n",
    "for i in range(len(choices)):\n",
    "    bt['Choice{}'.format(i+1)] = bt.apply(lambda y: y.value_counts(), axis=1)[choices[i]]\n",
    "    \n",
    "print bt"
   ]
  },
  {
   "cell_type": "code",
   "execution_count": 58,
   "metadata": {
    "collapsed": true
   },
   "outputs": [],
   "source": [
    "from numpy import array, zeros, argmin, inf, equal\n",
    "from scipy.spatial.distance import cdist\n",
    "\n",
    "def fastdtw(x, y, dist):\n",
    "    \"\"\"\n",
    "    Computes Dynamic Time Warping (DTW) of two sequences in a faster way.\n",
    "    Instead of iterating through each element and calculating each distance,\n",
    "    this uses the cdist function from scipy (https://docs.scipy.org/doc/scipy/reference/generated/scipy.spatial.distance.cdist.html)\n",
    "    :param array x: N1*M array\n",
    "    :param array y: N2*M array\n",
    "    :param string or func dist: distance parameter for cdist. When string is given, cdist uses optimized functions for the distance metrics.\n",
    "    If a string is passed, the distance function can be 'braycurtis', 'canberra', 'chebyshev', 'cityblock', 'correlation', 'cosine', 'dice', 'euclidean', 'hamming', 'jaccard', 'kulsinski', 'mahalanobis', 'matching', 'minkowski', 'rogerstanimoto', 'russellrao', 'seuclidean', 'sokalmichener', 'sokalsneath', 'sqeuclidean', 'wminkowski', 'yule'.\n",
    "    Returns the minimum distance, the cost matrix, the accumulated cost matrix, and the wrap path.\n",
    "    \"\"\"\n",
    "    assert len(x)\n",
    "    assert len(y)\n",
    "    r, c = len(x), len(y)\n",
    "    \n",
    "    print r, c\n",
    "    \n",
    "    D0 = zeros((r + 1, c + 1))\n",
    "    \n",
    "    # sets all boundaries (wallside) rows to inf - 1 represents \"start from pos 1\"\n",
    "    D0[0, 1:] = inf\n",
    "    D0[1:, 0] = inf\n",
    "  \n",
    "    print D0\n",
    "    \n",
    "    # this extracts the part below the inf boundaries - all zero space\n",
    "    D1 = D0[1:, 1:]\n",
    "    \n",
    "    print D1\n",
    "    \n",
    "    D0[1:,1:] = cdist(x,y,dist)\n",
    "    print D0[1:, 1:]\n",
    "    \n",
    "    C = D1.copy()\n",
    "    for i in range(r):\n",
    "        for j in range(c):\n",
    "            D1[i, j] += min(D0[i, j], D0[i, j+1], D0[i+1, j])\n",
    "    print D1[-1, -1]\n",
    "    print sum(D1.shape)\n",
    "    return D1[-1, -1] / sum(D1.shape)"
   ]
  },
  {
   "cell_type": "code",
   "execution_count": 59,
   "metadata": {
    "collapsed": false
   },
   "outputs": [
    {
     "name": "stdout",
     "output_type": "stream",
     "text": [
      "3 3\n",
      "[[  0.  inf  inf  inf]\n",
      " [ inf   0.   0.   0.]\n",
      " [ inf   0.   0.   0.]\n",
      " [ inf   0.   0.   0.]]\n",
      "[[ 0.  0.  0.]\n",
      " [ 0.  0.  0.]\n",
      " [ 0.  0.  0.]]\n",
      "[[ 3.          5.91607978  5.91607978]\n",
      " [ 6.40312424  8.66025404  8.66025404]\n",
      " [ 6.40312424  8.66025404  8.66025404]]\n",
      "20.3205080757\n",
      "6\n",
      "3.38675134595\n"
     ]
    }
   ],
   "source": [
    "\n",
    "x = [[3, 2, 1, 2, 3, 3, 3], \n",
    "     [3, 2, 1, 2, 4, 6, 7],\n",
    "    [3, 2, 1, 2, 4, 6, 7]]\n",
    "y = [[1, 1, 2, 3, 4, 3, 2], \n",
    "     [1, 3, 4, 6, 2, 1, 3],\n",
    "    [1, 3, 4, 6, 2, 1, 3]]\n",
    "\n",
    "dist = fastdtw(x, y, 'euclidean')\n",
    "\n",
    "print dist\n",
    "\n"
   ]
  },
  {
   "cell_type": "code",
   "execution_count": null,
   "metadata": {
    "collapsed": true
   },
   "outputs": [],
   "source": []
  }
 ],
 "metadata": {
  "anaconda-cloud": {},
  "kernelspec": {
   "display_name": "Python [conda root]",
   "language": "python",
   "name": "conda-root-py"
  },
  "language_info": {
   "codemirror_mode": {
    "name": "ipython",
    "version": 2
   },
   "file_extension": ".py",
   "mimetype": "text/x-python",
   "name": "python",
   "nbconvert_exporter": "python",
   "pygments_lexer": "ipython2",
   "version": "2.7.12"
  }
 },
 "nbformat": 4,
 "nbformat_minor": 1
}
