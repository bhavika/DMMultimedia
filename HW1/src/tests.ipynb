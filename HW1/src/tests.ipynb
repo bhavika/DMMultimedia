{
 "cells": [
  {
   "cell_type": "code",
   "execution_count": 1,
   "metadata": {
    "collapsed": false
   },
   "outputs": [
    {
     "name": "stderr",
     "output_type": "stream",
     "text": [
      "/home/bhavika/anaconda2/lib/python2.7/site-packages/numpy/core/numeric.py:301: FutureWarning: in the future, full((10, 10), -1) will return an array of dtype('int64')\n",
      "  format(shape, fill_value, array(fill_value).dtype), FutureWarning)\n"
     ]
    }
   ],
   "source": [
    "import numpy as np\n",
    "\n",
    "x = np.full((10,10), -1)\n",
    "x[3, 4] = 9\n"
   ]
  },
  {
   "cell_type": "code",
   "execution_count": 2,
   "metadata": {
    "collapsed": false
   },
   "outputs": [
    {
     "name": "stdout",
     "output_type": "stream",
     "text": [
      "[[-1. -1. -1. -1. -1. -1. -1. -1. -1. -1.]\n",
      " [-1. -1. -1. -1. -1. -1. -1. -1. -1. -1.]\n",
      " [-1. -1. -1. -1. -1. -1. -1. -1. -1. -1.]\n",
      " [-1. -1. -1. -1.  9. -1. -1. -1. -1. -1.]\n",
      " [-1. -1. -1. -1. -1. -1. -1. -1. -1. -1.]\n",
      " [-1. -1. -1. -1. -1. -1. -1. -1. -1. -1.]\n",
      " [-1. -1. -1. -1. -1. -1. -1. -1. -1. -1.]\n",
      " [-1. -1. -1. -1. -1. -1. -1. -1. -1. -1.]\n",
      " [-1. -1. -1. -1. -1. -1. -1. -1. -1. -1.]\n",
      " [-1. -1. -1. -1. -1. -1. -1. -1. -1. -1.]]\n",
      "9.0\n"
     ]
    }
   ],
   "source": [
    "print x\n",
    "\n",
    "print x[3,4]"
   ]
  },
  {
   "cell_type": "code",
   "execution_count": 3,
   "metadata": {
    "collapsed": false
   },
   "outputs": [
    {
     "name": "stdout",
     "output_type": "stream",
     "text": [
      "[ 1.  3.  2.]\n",
      "<type 'numpy.ndarray'>\n"
     ]
    }
   ],
   "source": [
    "import pandas as pd\n",
    "\n",
    "train1 = np.genfromtxt(fname='../data/dataset1/train.txt')\n",
    "train1_df = pd.DataFrame(train1)\n",
    "train1_df = train1_df.rename(columns={0: 'Label'})\n",
    "\n",
    "choices = train1_df['Label'].unique()\n",
    "\n",
    "print choices\n",
    "print type(choices)"
   ]
  },
  {
   "cell_type": "code",
   "execution_count": 4,
   "metadata": {
    "collapsed": false
   },
   "outputs": [],
   "source": [
    "train1 = np.genfromtxt(fname='../data/dataset1/train.txt')\n",
    "train2 = np.genfromtxt(fname= '../data/dataset2/train.txt')\n",
    "train3 = np.genfromtxt(fname='../data/dataset3/train.txt')\n",
    "train4 = np.genfromtxt(fname='../data/dataset4/train.txt')\n",
    "train5 = np.genfromtxt(fname='../data/dataset5/train.txt')\n",
    "\n",
    "test1 = np.genfromtxt(fname='../data/dataset1/test.txt')\n",
    "test2 = np.genfromtxt(fname='../data/dataset2/test.txt')\n",
    "test3 = np.genfromtxt(fname='../data/dataset3/test.txt')\n",
    "test4 = np.genfromtxt(fname='../data/dataset4/test.txt')\n",
    "test5 = np.genfromtxt(fname='../data/dataset5/test.txt')\n",
    "\n",
    "train1_df = pd.DataFrame(train1)\n",
    "train2_df = pd.DataFrame(train2)\n",
    "train3_df = pd.DataFrame(train3)\n",
    "train4_df = pd.DataFrame(train4)\n",
    "train5_df = pd.DataFrame(train5)\n",
    "\n",
    "train1_df = train1_df.rename(columns={0: 'Label'})\n",
    "train2_df = train2_df.rename(columns={0: 'Label'})\n",
    "train3_df = train3_df.rename(columns={0: 'Label'})\n",
    "train4_df = train4_df.rename(columns={0: 'Label'})\n",
    "train5_df = train5_df.rename(columns={0: 'Label'})\n",
    "\n",
    "test1_df = pd.DataFrame(test1)\n",
    "test2_df = pd.DataFrame(test2)\n",
    "test3_df = pd.DataFrame(test3)\n",
    "test4_df = pd.DataFrame(test4)\n",
    "test5_df = pd.DataFrame(test5)\n",
    "\n",
    "test1_df = test1_df.rename(columns={0: 'Label'})\n",
    "test2_df = test2_df.rename(columns={0: 'Label'})\n",
    "test3_df = test3_df.rename(columns={0: 'Label'})\n",
    "test4_df = test4_df.rename(columns={0: 'Label'})\n",
    "test5_df = test5_df.rename(columns={0: 'Label'})\n",
    "\n",
    "\n",
    "\n"
   ]
  },
  {
   "cell_type": "code",
   "execution_count": 5,
   "metadata": {
    "collapsed": false
   },
   "outputs": [
    {
     "name": "stdout",
     "output_type": "stream",
     "text": [
      "No of datapoints for dataset 1 30 900\n",
      "Time series length for dataset 1 129\n",
      "No of datapoints for dataset 2 175 175\n",
      "Time series length for dataset 2 464\n",
      "No of datapoints for dataset 3 200 242\n",
      "Time series length for dataset 3 428\n",
      "No of datapoints for dataset 4 500 625\n",
      "Time series length for dataset 4 129\n",
      "No of datapoints for dataset 5 1000 6164\n",
      "Time series length for dataset 5 153\n"
     ]
    }
   ],
   "source": [
    "train = [train1, train2, train3, train4, train5]\n",
    "test = [test1, test2, test3, test4, test5]\n",
    "\n",
    "for i in range(len(train)):\n",
    "    m, n = train[i].shape\n",
    "    x, y = test[i].shape\n",
    "    print \"No of datapoints for dataset\", i+1,m, x\n",
    "    print \"Time series length for dataset\",i+1, n"
   ]
  },
  {
   "cell_type": "code",
   "execution_count": 6,
   "metadata": {
    "collapsed": false
   },
   "outputs": [
    {
     "name": "stdout",
     "output_type": "stream",
     "text": [
      "     0    1    2  Choice1  Choice2\n",
      "0  0.0  1.0  1.0      2.0        1\n",
      "1  2.0  1.0  0.0      1.0        1\n"
     ]
    }
   ],
   "source": [
    "bhavika = np.zeros((2,3))\n",
    "\n",
    "bhavika[0, 2] = 1\n",
    "bhavika[0, 1] = 1\n",
    "bhavika[1, 0] = 2\n",
    "bhavika[1, 1] = 1\n",
    "\n",
    "bt = pd.DataFrame(bhavika)\n",
    "\n",
    "choices = [1, 2]\n",
    "\n",
    "for i in range(len(choices)):\n",
    "    bt['Choice{}'.format(i+1)] = bt.apply(lambda y: y.value_counts(), axis=1)[choices[i]]\n",
    "    \n",
    "print bt"
   ]
  },
  {
   "cell_type": "code",
   "execution_count": 7,
   "metadata": {
    "collapsed": true
   },
   "outputs": [],
   "source": [
    "from numpy import array, zeros, argmin, inf, equal\n",
    "from scipy.spatial.distance import cdist\n",
    "\n",
    "def fastdtw(x, y):\n",
    "    assert len(x)\n",
    "    assert len(y)\n",
    "    r, c = len(x), len(y)\n",
    "    \n",
    "    #print r, c\n",
    "    \n",
    "    D0 = zeros((r + 1, c + 1))\n",
    "    \n",
    "    # sets all boundaries (wallside) rows to inf - 1 represents \"start from pos 1\"\n",
    "    D0[0, 1:] = inf\n",
    "    D0[1:, 0] = inf\n",
    "  \n",
    "    #print D0\n",
    "    \n",
    "    # this extracts the part below the inf boundaries - all zero space\n",
    "    D1 = D0[1:, 1:]\n",
    "    \n",
    "    #print D1\n",
    "    \n",
    "    D0[1:,1:] = cdist(x,y,'euclidean')\n",
    "    #print D0[1:, 1:]\n",
    "    \n",
    "    C = D1.copy()\n",
    "    for i in range(r):\n",
    "        for j in range(c):\n",
    "            D1[i, j] += min(D0[i, j], D0[i, j+1], D0[i+1, j])\n",
    "    #print D1[-1, -1]\n",
    "    #print sum(D1.shape)\n",
    "    #print D1[-1, -1] / sum(D1.shape)\n",
    "    return D1.T"
   ]
  },
  {
   "cell_type": "code",
   "execution_count": 8,
   "metadata": {
    "collapsed": false
   },
   "outputs": [
    {
     "name": "stdout",
     "output_type": "stream",
     "text": [
      "[[  3.60555128   7.21110255]\n",
      " [  7.21110255   7.21110255]\n",
      " [ 13.76854108  13.76854108]]\n"
     ]
    }
   ],
   "source": [
    "t1 = [[3, 2, 1, 3, 3], [3, 2, 1, 3, 3]]\n",
    "\n",
    "t2 = [[1, 2, 3, 2, 1], [1, 2, 3, 2, 1], [4, 5, 6, 1, 1]]\n",
    "\n",
    "dist = fastdtw(t1, t2)\n",
    "\n",
    "print dist\n",
    "\n"
   ]
  },
  {
   "cell_type": "code",
   "execution_count": 11,
   "metadata": {
    "collapsed": false
   },
   "outputs": [
    {
     "name": "stdout",
     "output_type": "stream",
     "text": [
      "ModeResult(mode=array([ 1.]), count=array([ 3.]))\n",
      "<class 'scipy.stats.mstats_basic.ModeResult'>\n"
     ]
    }
   ],
   "source": [
    "from scipy.stats.mstats import mode\n",
    "\n",
    "x = np.array([1, 2, 56, 77, 2, 1, 1])\n",
    "print mode(x)\n",
    "\n",
    "print type(mode(x))"
   ]
  },
  {
   "cell_type": "code",
   "execution_count": null,
   "metadata": {
    "collapsed": true
   },
   "outputs": [],
   "source": []
  }
 ],
 "metadata": {
  "anaconda-cloud": {},
  "kernelspec": {
   "display_name": "Python [conda root]",
   "language": "python",
   "name": "conda-root-py"
  },
  "language_info": {
   "codemirror_mode": {
    "name": "ipython",
    "version": 2
   },
   "file_extension": ".py",
   "mimetype": "text/x-python",
   "name": "python",
   "nbconvert_exporter": "python",
   "pygments_lexer": "ipython2",
   "version": "2.7.12"
  }
 },
 "nbformat": 4,
 "nbformat_minor": 1
}
